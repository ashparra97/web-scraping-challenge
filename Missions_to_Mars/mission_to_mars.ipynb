{
 "metadata": {
  "language_info": {
   "codemirror_mode": {
    "name": "ipython",
    "version": 3
   },
   "file_extension": ".py",
   "mimetype": "text/x-python",
   "name": "python",
   "nbconvert_exporter": "python",
   "pygments_lexer": "ipython3",
   "version": "3.8.5"
  },
  "orig_nbformat": 4,
  "kernelspec": {
   "name": "python3",
   "display_name": "Python 3.8.5 64-bit ('base': conda)"
  },
  "interpreter": {
   "hash": "dca0ade3e726a953b501b15e8e990130d2b7799f14cfd9f4271676035ebe5511"
  }
 },
 "nbformat": 4,
 "nbformat_minor": 2,
 "cells": [
  {
   "source": [
    "## Web Scraping Assignment "
   ],
   "cell_type": "markdown",
   "metadata": {}
  },
  {
   "cell_type": "code",
   "execution_count": 10,
   "metadata": {},
   "outputs": [],
   "source": [
    "# import dependencies \n",
    "import pandas as pd \n",
    "from bs4 import BeautifulSoup\n",
    "import requests\n",
    "import pymongo"
   ]
  },
  {
   "source": [
    "### NASA Mars News "
   ],
   "cell_type": "markdown",
   "metadata": {}
  },
  {
   "source": [
    "Scrape the NASA Mars News Site and collect the latest News Title and Paragraph Text. Assign the text to variables that you can reference later."
   ],
   "cell_type": "markdown",
   "metadata": {}
  },
  {
   "cell_type": "code",
   "execution_count": 11,
   "metadata": {},
   "outputs": [],
   "source": [
    "# Initialize PyMongo to work with MongoDBs\n",
    "conn = 'mongodb://localhost:27017'\n",
    "client = pymongo.MongoClient(conn)"
   ]
  },
  {
   "cell_type": "code",
   "execution_count": 12,
   "metadata": {},
   "outputs": [],
   "source": [
    "# Indicate which site we are scraping from \n",
    "nasa_url = \"https://mars.nasa.gov/news/?page=0&per_page=40&order=publish_date+desc%2Ccreated_at+desc&search=&category=19%2C165%2C184%2C204&blank_scope=Latest\""
   ]
  },
  {
   "cell_type": "code",
   "execution_count": 13,
   "metadata": {},
   "outputs": [],
   "source": [
    "# Retrieve page with the requests module\n",
    "response = requests.get(nasa_url)\n",
    "\n",
    "# Create BeautifulSoup object; parse with 'html.parser'\n",
    "soup = BeautifulSoup(response.text, 'html.parser')"
   ]
  },
  {
   "cell_type": "code",
   "execution_count": 22,
   "metadata": {},
   "outputs": [
    {
     "output_type": "stream",
     "name": "stdout",
     "text": [
      "\n\nNASA's Perseverance Rover Begins Its First Science Campaign on Mars\n\n\n\nThe six-wheeled scientist is heading south to explore Jezero Crater’s lakebed in search of signs of ancient microbial life.\n\n"
     ]
    }
   ],
   "source": [
    "# Save latest news title to variable\n",
    "latest_title = soup.find_all('div', class_='content_title')[0].text\n",
    "print(latest_title)\n",
    "\n",
    "latest_paragraph = soup.find_all('div', class_='rollover_description_inner')[0].text\n",
    "print(latest_paragraph)"
   ]
  },
  {
   "source": [
    "### JPL Mars Space Images"
   ],
   "cell_type": "markdown",
   "metadata": {}
  },
  {
   "source": [
    "- Visit the url for JPL Featured Space Image here.\n",
    "\n",
    "- Use splinter to navigate the site and find the image url for the current Featured Mars Image and assign the   url string to a variable called featured_image_url.\n",
    "\n",
    "- Make sure to find the image url to the full size .jpg image.\n",
    "\n",
    "- Make sure to save a complete url string for this image."
   ],
   "cell_type": "markdown",
   "metadata": {}
  },
  {
   "cell_type": "code",
   "execution_count": null,
   "metadata": {},
   "outputs": [],
   "source": []
  },
  {
   "source": [
    "### Mars Facts"
   ],
   "cell_type": "markdown",
   "metadata": {}
  },
  {
   "source": [
    "- Visit the Mars Facts webpage here and use Pandas to scrape the table containing facts about the planet        including Diameter, Mass, etc.\n",
    "\n",
    "- Use Pandas to convert the data to a HTML table string."
   ],
   "cell_type": "markdown",
   "metadata": {}
  },
  {
   "cell_type": "code",
   "execution_count": null,
   "metadata": {},
   "outputs": [],
   "source": []
  },
  {
   "cell_type": "code",
   "execution_count": null,
   "metadata": {},
   "outputs": [],
   "source": []
  },
  {
   "source": [
    "### Mars Hemispheres"
   ],
   "cell_type": "markdown",
   "metadata": {}
  },
  {
   "source": [
    "- Visit the USGS Astrogeology site here to obtain high resolution images for each of Mar's hemispheres.\n",
    "\n",
    "- You will need to click each of the links to the hemispheres in order to find the image url to the full        resolution image.\n",
    "\n",
    "- Save both the image url string for the full resolution hemisphere image, and the Hemisphere title             containing the hemisphere name. Use a Python dictionary to store the data using the keys img_url and title.\n",
    "\n",
    "- Append the dictionary with the image url string and the hemisphere title to a list. This list will contain    one dictionary for each hemisphere."
   ],
   "cell_type": "markdown",
   "metadata": {}
  },
  {
   "cell_type": "code",
   "execution_count": null,
   "metadata": {},
   "outputs": [],
   "source": []
  },
  {
   "cell_type": "code",
   "execution_count": null,
   "metadata": {},
   "outputs": [],
   "source": []
  }
 ]
}